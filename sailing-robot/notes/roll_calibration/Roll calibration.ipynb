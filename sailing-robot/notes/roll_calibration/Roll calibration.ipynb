{
 "cells": [
  {
   "cell_type": "code",
   "execution_count": 1,
   "metadata": {
    "collapsed": true
   },
   "outputs": [],
   "source": [
    "import pandas\n",
    "import json"
   ]
  },
  {
   "cell_type": "code",
   "execution_count": 2,
   "metadata": {
    "collapsed": false
   },
   "outputs": [],
   "source": [
    "with open('roll_calibration.json') as f:\n",
    "    roll_data = json.load(f)"
   ]
  },
  {
   "cell_type": "code",
   "execution_count": 3,
   "metadata": {
    "collapsed": true
   },
   "outputs": [],
   "source": [
    "roll_readings = []\n",
    "for rec in roll_data['roll_readings']:\n",
    "    x, y, z = rec['mag_xyz']\n",
    "    roll_readings.append({\n",
    "        'pitch': rec['pitch'],\n",
    "        'roll': rec['roll'],\n",
    "        'x': x, 'y': y, 'z': z,\n",
    "    })"
   ]
  },
  {
   "cell_type": "code",
   "execution_count": 4,
   "metadata": {
    "collapsed": false
   },
   "outputs": [
    {
     "data": {
      "text/html": [
       "<div>\n",
       "<table border=\"1\" class=\"dataframe\">\n",
       "  <thead>\n",
       "    <tr style=\"text-align: right;\">\n",
       "      <th></th>\n",
       "      <th>pitch</th>\n",
       "      <th>roll</th>\n",
       "      <th>x</th>\n",
       "      <th>y</th>\n",
       "      <th>z</th>\n",
       "    </tr>\n",
       "  </thead>\n",
       "  <tbody>\n",
       "    <tr>\n",
       "      <th>0</th>\n",
       "      <td>9.840134</td>\n",
       "      <td>-7.433393</td>\n",
       "      <td>86</td>\n",
       "      <td>841</td>\n",
       "      <td>4083</td>\n",
       "    </tr>\n",
       "    <tr>\n",
       "      <th>1</th>\n",
       "      <td>9.652645</td>\n",
       "      <td>-7.619682</td>\n",
       "      <td>91</td>\n",
       "      <td>852</td>\n",
       "      <td>4059</td>\n",
       "    </tr>\n",
       "    <tr>\n",
       "      <th>2</th>\n",
       "      <td>10.755135</td>\n",
       "      <td>-4.912883</td>\n",
       "      <td>54</td>\n",
       "      <td>854</td>\n",
       "      <td>4081</td>\n",
       "    </tr>\n",
       "    <tr>\n",
       "      <th>3</th>\n",
       "      <td>11.575489</td>\n",
       "      <td>-7.202539</td>\n",
       "      <td>54</td>\n",
       "      <td>854</td>\n",
       "      <td>4081</td>\n",
       "    </tr>\n",
       "    <tr>\n",
       "      <th>4</th>\n",
       "      <td>10.462870</td>\n",
       "      <td>-9.086972</td>\n",
       "      <td>21</td>\n",
       "      <td>898</td>\n",
       "      <td>4074</td>\n",
       "    </tr>\n",
       "  </tbody>\n",
       "</table>\n",
       "</div>"
      ],
      "text/plain": [
       "       pitch      roll   x    y     z\n",
       "0   9.840134 -7.433393  86  841  4083\n",
       "1   9.652645 -7.619682  91  852  4059\n",
       "2  10.755135 -4.912883  54  854  4081\n",
       "3  11.575489 -7.202539  54  854  4081\n",
       "4  10.462870 -9.086972  21  898  4074"
      ]
     },
     "execution_count": 4,
     "metadata": {},
     "output_type": "execute_result"
    }
   ],
   "source": [
    "roll_df = pandas.DataFrame.from_records(roll_readings)\n",
    "roll_df.head()"
   ]
  },
  {
   "cell_type": "code",
   "execution_count": 5,
   "metadata": {
    "collapsed": true
   },
   "outputs": [],
   "source": [
    "%matplotlib inline"
   ]
  },
  {
   "cell_type": "code",
   "execution_count": 6,
   "metadata": {
    "collapsed": false
   },
   "outputs": [
    {
     "data": {
      "text/plain": [
       "<matplotlib.axes._subplots.AxesSubplot at 0x7fe97a314da0>"
      ]
     },
     "execution_count": 6,
     "metadata": {},
     "output_type": "execute_result"
    },
    {
     "data": {
      "image/png": "[encoded data removed]",
      "text/plain": [
       "<matplotlib.figure.Figure at 0x7fe97a314358>"
      ]
     },
     "metadata": {},
     "output_type": "display_data"
    }
   ],
   "source": [
    "ax = roll_df.plot('roll', 'x')\n",
    "roll_df.plot('roll', 'y', ax=ax)\n",
    "roll_df.plot('roll', 'z', ax=ax, xlim=(-90, 90))"
   ]
  },
  {
   "cell_type": "markdown",
   "metadata": {},
   "source": [
    "The formula for MagY_comp we're using is:\n",
    "\n",
    "```python\n",
    "MagY_comp = (MagX*math.sin(roll)*math.sin(pitch)) +\\\n",
    "     (MagY*math.cos(roll)) - (MagZ*math.sin(roll)*math.cos(pitch)) \n",
    "```\n",
    "\n",
    "Where MagZ is the calibrated magnetism data"
   ]
  },
  {
   "cell_type": "code",
   "execution_count": 7,
   "metadata": {
    "collapsed": false
   },
   "outputs": [
    {
     "data": {
      "text/plain": [
       "dict_keys(['range_X', 'range_Y', 'offset_Y', 'offset_X', 'roll_readings'])"
      ]
     },
     "execution_count": 7,
     "metadata": {},
     "output_type": "execute_result"
    }
   ],
   "source": [
    "roll_data.keys()"
   ]
  },
  {
   "cell_type": "code",
   "execution_count": 8,
   "metadata": {
    "collapsed": false
   },
   "outputs": [
    {
     "data": {
      "text/plain": [
       "-839"
      ]
     },
     "execution_count": 8,
     "metadata": {},
     "output_type": "execute_result"
    }
   ],
   "source": [
    "roll_data['offset_X']"
   ]
  },
  {
   "cell_type": "markdown",
   "metadata": {},
   "source": [
    "Define the function we want to minimise.\n",
    "\n",
    "`p` is the array of two parameters; leastsq will try to optimise these so that the array it gets back is as close to 0 as possible."
   ]
  },
  {
   "cell_type": "code",
   "execution_count": 10,
   "metadata": {
    "collapsed": false
   },
   "outputs": [],
   "source": [
    "import numpy as np\n",
    "y_flat = roll_df[(-3 < roll_df.roll) & (roll_df.roll < +3)]['y'].mean()\n",
    "\n",
    "# Adjust X and Y fields by calibration already got (dance calibration)\n",
    "MagX = (roll_df.x - roll_data['offset_X']) / roll_data['range_X']\n",
    "MagY = (roll_df.y - roll_data['offset_Y']) / roll_data['range_Y']\n",
    "MagY_flat = (y_flat - roll_data['offset_Y']) / roll_data['range_Y']\n",
    "raw_z = roll_df.z\n",
    "\n",
    "# Convert pitch and roll to radians for trig functions\n",
    "roll = roll_df.roll\n",
    "roll_r = np.radians(roll)\n",
    "pitch = roll_df.pitch\n",
    "pitch_r = np.radians(pitch)\n",
    "\n",
    "def mag_y_comp_residuals(p):\n",
    "    MagY_comp = (MagX * np.sin(roll_r) * np.sin(pitch_r)) +\\\n",
    "     (MagY * np.cos(roll_r)) - (((raw_z - p[0]) / p[1])* np.sin(roll_r) * np.cos(pitch_r)) \n",
    "    return MagY_comp - MagY_flat"
   ]
  },
  {
   "cell_type": "markdown",
   "metadata": {},
   "source": [
    "Find the best parameters with [leastsq()](http://docs.scipy.org/doc/scipy/reference/generated/scipy.optimize.leastsq.html). If it was successful, `ier` should be an integer from 1 to 4, inclusive."
   ]
  },
  {
   "cell_type": "code",
   "execution_count": 11,
   "metadata": {
    "collapsed": false
   },
   "outputs": [
    {
     "data": {
      "text/plain": [
       "array([   70.94803162,  3370.54086495])"
      ]
     },
     "execution_count": 11,
     "metadata": {},
     "output_type": "execute_result"
    }
   ],
   "source": [
    "from scipy.optimize import leastsq\n",
    "res, ier = leastsq(mag_y_comp_residuals, (1, 1))\n",
    "assert 1 <= ier <= 4\n",
    "res"
   ]
  },
  {
   "cell_type": "code",
   "execution_count": 16,
   "metadata": {
    "collapsed": false
   },
   "outputs": [],
   "source": [
    "MagZ = (raw_z - res[0]) / res[1]\n",
    "\n",
    "MagY_comp = (MagX * np.sin(roll_r) * np.sin(pitch_r)) +\\\n",
    "    (MagY * np.cos(roll_r)) - (MagZ * np.sin(roll_r) * np.cos(pitch_r))"
   ]
  },
  {
   "cell_type": "code",
   "execution_count": 17,
   "metadata": {
    "collapsed": true
   },
   "outputs": [],
   "source": [
    "import matplotlib.pyplot as plt"
   ]
  },
  {
   "cell_type": "code",
   "execution_count": 18,
   "metadata": {
    "collapsed": false
   },
   "outputs": [
    {
     "data": {
      "text/plain": [
       "<matplotlib.legend.Legend at 0x7fe974fc5fd0>"
      ]
     },
     "execution_count": 18,
     "metadata": {},
     "output_type": "execute_result"
    },
    {
     "data": {
      "image/png": "[encoded data removed]",
      "text/plain": [
       "<matplotlib.figure.Figure at 0x7fe975517128>"
      ]
     },
     "metadata": {},
     "output_type": "display_data"
    }
   ],
   "source": [
    "#plt.plot(roll, raw_z, label='Raw Z')\n",
    "plt.plot(roll, MagZ, label='Z')\n",
    "plt.plot(roll, MagZ * np.sin(roll_r) * np.cos(pitch_r), label='Z adjust')\n",
    "plt.xlabel('Roll (degrees)')\n",
    "plt.legend()"
   ]
  },
  {
   "cell_type": "markdown",
   "metadata": {},
   "source": [
    "Plot the Y field values and the roll-compensated Y field. The compensated one should be flat, and they should intersect where `roll=0`."
   ]
  },
  {
   "cell_type": "code",
   "execution_count": 19,
   "metadata": {
    "collapsed": false
   },
   "outputs": [
    {
     "data": {
      "text/plain": [
       "<matplotlib.legend.Legend at 0x7fe974f30cf8>"
      ]
     },
     "execution_count": 19,
     "metadata": {},
     "output_type": "execute_result"
    },
    {
     "data": {
      "image/png": "[encoded data removed]",
      "text/plain": [
       "<matplotlib.figure.Figure at 0x7fe974ffb048>"
      ]
     },
     "metadata": {},
     "output_type": "display_data"
    }
   ],
   "source": [
    "plt.plot(roll, MagY, label='Uncalibrated')\n",
    "plt.plot(roll, MagY_comp, label='Calibrated')\n",
    "plt.xlabel('Roll (degrees)')\n",
    "plt.legend()"
   ]
  }
 ],
 "metadata": {
  "kernelspec": {
   "display_name": "Python 3",
   "language": "python",
   "name": "python3"
  },
  "language_info": {
   "codemirror_mode": {
    "name": "ipython",
    "version": 3
   },
   "file_extension": ".py",
   "mimetype": "text/x-python",
   "name": "python",
   "nbconvert_exporter": "python",
   "pygments_lexer": "ipython3",
   "version": "3.5.1"
  }
 },
 "nbformat": 4,
 "nbformat_minor": 1
}
